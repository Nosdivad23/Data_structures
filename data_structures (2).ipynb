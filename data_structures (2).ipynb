{
  "cells": [
    {
      "cell_type": "markdown",
      "id": "9de86d64",
      "metadata": {
        "id": "9de86d64"
      },
      "source": [
        "# Data frames"
      ]
    },
    {
      "cell_type": "markdown",
      "id": "f983e3dc",
      "metadata": {
        "id": "f983e3dc"
      },
      "source": [
        "## DataFrames in Pandas (Python Data Analysis Library)\n",
        "*  Pandas DataFrame is a two-dimensional data structure  \n",
        "*  Columns can be different data type\n",
        "*  Think of dataframe as a table. Each column represents a common data type\n",
        "*  It is relatively convenient to manipulate data and extract valuable information\n"
      ]
    },
    {
      "cell_type": "markdown",
      "id": "28d64a78",
      "metadata": {
        "id": "28d64a78"
      },
      "source": [
        "### Creating DataFrames\n",
        "**Dictionaries in Python**: We will use dictionaries in Python. Consider column names as “Keys” and list of items under that column as *“Values”*."
      ]
    },
    {
      "cell_type": "code",
      "execution_count": null,
      "id": "c1e2a72c",
      "metadata": {
        "id": "c1e2a72c"
      },
      "outputs": [],
      "source": [
        "import pandas as pd"
      ]
    },
    {
      "cell_type": "code",
      "execution_count": null,
      "id": "8c0fa5da",
      "metadata": {
        "id": "8c0fa5da"
      },
      "outputs": [],
      "source": [
        "pd.DataFrame({'First Name': ['James', 'Alexander', 'Ashley'], 'Last Name':['Cook', 'Bell', 'Mason'], 'Age': [38, 42, 23]})"
      ]
    },
    {
      "cell_type": "code",
      "execution_count": null,
      "id": "d5219f80",
      "metadata": {
        "id": "d5219f80"
      },
      "outputs": [],
      "source": [
        "my_dict = {'First Name': ['James', 'Alexander', 'Ashley'], \n",
        "           'Last Name':['Cook', 'Bell', 'Mason'], \n",
        "           'Age': [38, 42, 23]}"
      ]
    },
    {
      "cell_type": "code",
      "execution_count": null,
      "id": "7944884c",
      "metadata": {
        "id": "7944884c"
      },
      "outputs": [],
      "source": [
        "df = pd.DataFrame(my_dict)\n",
        "df"
      ]
    },
    {
      "cell_type": "markdown",
      "id": "67e9cf58",
      "metadata": {
        "id": "67e9cf58"
      },
      "source": [
        "Specify row indices externally"
      ]
    },
    {
      "cell_type": "code",
      "execution_count": null,
      "id": "c4a4fc95",
      "metadata": {
        "id": "c4a4fc95"
      },
      "outputs": [],
      "source": [
        "df = pd.DataFrame(my_dict, index=[1, 2, 3]) #numeric row indexing\n",
        "df"
      ]
    },
    {
      "cell_type": "code",
      "execution_count": null,
      "id": "a5b197e7",
      "metadata": {
        "id": "a5b197e7"
      },
      "outputs": [],
      "source": [
        "type(df)"
      ]
    },
    {
      "cell_type": "code",
      "execution_count": null,
      "id": "1f2fd557",
      "metadata": {
        "id": "1f2fd557"
      },
      "outputs": [],
      "source": [
        "help(df)"
      ]
    },
    {
      "cell_type": "markdown",
      "id": "ca101d0e",
      "metadata": {
        "id": "ca101d0e"
      },
      "source": [
        "Specify row indices internally"
      ]
    },
    {
      "cell_type": "code",
      "execution_count": null,
      "id": "b86a35b7",
      "metadata": {
        "id": "b86a35b7"
      },
      "outputs": [],
      "source": [
        "my_dict = {'First Name': {1: 'James', 2: 'Alexander', 3: 'Ashley'}, #1,2,3 will indicate row indices in dataframe\n",
        "           'Last Name': {2: 'Cook', 2: 'Bell', 3: 'Mason'}, \n",
        "           'Age': {1: 38, 2: 42, 3: 23}} \n",
        "df = pd.DataFrame(my_dict)\n",
        "df"
      ]
    },
    {
      "cell_type": "markdown",
      "id": "96a6df20",
      "metadata": {
        "id": "96a6df20"
      },
      "source": [
        "A column of a DataFrame will always be of same type"
      ]
    },
    {
      "cell_type": "code",
      "execution_count": null,
      "id": "48ebaa78",
      "metadata": {
        "id": "48ebaa78"
      },
      "outputs": [],
      "source": [
        "df['Age'].dtype"
      ]
    },
    {
      "cell_type": "code",
      "execution_count": null,
      "id": "39e680b0",
      "metadata": {
        "id": "39e680b0"
      },
      "outputs": [],
      "source": [
        "df.Age.dtype"
      ]
    },
    {
      "cell_type": "code",
      "execution_count": null,
      "id": "150b3eef",
      "metadata": {
        "id": "150b3eef"
      },
      "outputs": [],
      "source": [
        "df.dtypes"
      ]
    },
    {
      "cell_type": "markdown",
      "id": "898a51f9",
      "metadata": {
        "id": "898a51f9"
      },
      "source": [
        "### List of Lists"
      ]
    },
    {
      "cell_type": "code",
      "execution_count": null,
      "id": "4f3c3dbc",
      "metadata": {
        "id": "4f3c3dbc"
      },
      "outputs": [],
      "source": [
        "myList = [['James','Cook',38],\n",
        "          ['Alexander','Bell',42],\n",
        "          ['Ashley','Mason',23]]\n",
        "myList"
      ]
    },
    {
      "cell_type": "code",
      "execution_count": null,
      "id": "dff69cf7",
      "metadata": {
        "id": "dff69cf7"
      },
      "outputs": [],
      "source": [
        "df2 = pd.DataFrame(myList, columns = ['First Name', 'Last Name', 'Age'])\n",
        "df2"
      ]
    },
    {
      "cell_type": "code",
      "execution_count": null,
      "id": "c9011ae8",
      "metadata": {
        "id": "c9011ae8"
      },
      "outputs": [],
      "source": [
        "df2.dtypes"
      ]
    },
    {
      "cell_type": "markdown",
      "id": "2c100780",
      "metadata": {
        "id": "2c100780"
      },
      "source": [
        "Dataframe to dictionary"
      ]
    },
    {
      "cell_type": "code",
      "execution_count": null,
      "id": "58f8cf22",
      "metadata": {
        "id": "58f8cf22"
      },
      "outputs": [],
      "source": [
        "my_dict = {'First Name':['James', 'Alexander', 'Ashley'],\n",
        "           'Last Name': ['Cook','Bell','Mason'],\n",
        "           'Age': [38, 42, 23]} \n",
        "\n",
        "df = pd.DataFrame(my_dict, index = ['a','b','c'])\n",
        "\n",
        "df"
      ]
    },
    {
      "cell_type": "code",
      "execution_count": null,
      "id": "815c1b7e",
      "metadata": {
        "id": "815c1b7e"
      },
      "outputs": [],
      "source": [
        "df.to_dict() "
      ]
    },
    {
      "cell_type": "markdown",
      "id": "3227277d",
      "metadata": {
        "id": "3227277d"
      },
      "source": [
        "Dataframe to list"
      ]
    },
    {
      "cell_type": "code",
      "execution_count": null,
      "id": "d7fa61a1",
      "metadata": {
        "id": "d7fa61a1"
      },
      "outputs": [],
      "source": [
        "my_list = df.values.tolist() # List of lists. we loose column names\n",
        "my_list"
      ]
    },
    {
      "cell_type": "markdown",
      "id": "8da21062",
      "metadata": {
        "id": "8da21062"
      },
      "source": [
        "### DataFrame Indices"
      ]
    },
    {
      "cell_type": "code",
      "execution_count": null,
      "id": "d57e4000",
      "metadata": {
        "id": "d57e4000"
      },
      "outputs": [],
      "source": [
        "df"
      ]
    },
    {
      "cell_type": "code",
      "execution_count": null,
      "id": "1b7c7aa5",
      "metadata": {
        "id": "1b7c7aa5"
      },
      "outputs": [],
      "source": [
        "df = pd.DataFrame(\n",
        "     my_dict, \n",
        "     index=['First Row', 'Second Row', 'Third Row'])#string row indexing\n",
        "df"
      ]
    },
    {
      "cell_type": "code",
      "execution_count": null,
      "id": "995e4311",
      "metadata": {
        "id": "995e4311"
      },
      "outputs": [],
      "source": [
        "np_arr = np.array([1,2,3]) #homojeneous data type in numpy array\n",
        "df = pd.DataFrame(my_dict, index = np_arr) #set numpy array as index\n",
        "df.index = ['One', 'Two', 'Three'] #if df is already created\n",
        "df"
      ]
    },
    {
      "cell_type": "code",
      "execution_count": null,
      "id": "b7519472",
      "metadata": {
        "id": "b7519472"
      },
      "outputs": [],
      "source": [
        "myIndices = list(df.index) #assign dataframe indices to a variable as a list\n",
        "myIndices"
      ]
    },
    {
      "cell_type": "markdown",
      "id": "05696886",
      "metadata": {
        "id": "05696886"
      },
      "source": [
        ".set_index()"
      ]
    },
    {
      "cell_type": "code",
      "execution_count": null,
      "id": "b4fa5e81",
      "metadata": {
        "id": "b4fa5e81"
      },
      "outputs": [],
      "source": [
        "help(df.set_index)"
      ]
    },
    {
      "cell_type": "code",
      "execution_count": null,
      "id": "b5c0b546",
      "metadata": {
        "id": "b5c0b546"
      },
      "outputs": [],
      "source": [
        "df_new = df.set_index('Age') # Creates a new dataframe with indices named “Age”\n",
        "df.set_index('Age', inplace = True) # Modifies existing dataframe\n",
        "df # Updated"
      ]
    },
    {
      "cell_type": "markdown",
      "id": "a46c1136",
      "metadata": {
        "id": "a46c1136"
      },
      "source": [
        "### DataFrame Columns"
      ]
    },
    {
      "cell_type": "code",
      "execution_count": null,
      "id": "5cd0d664",
      "metadata": {
        "id": "5cd0d664"
      },
      "outputs": [],
      "source": [
        "myColumns = list(df.columns) #assign dataframe columns to a variable as a list\n",
        "myColumns"
      ]
    },
    {
      "cell_type": "code",
      "execution_count": null,
      "id": "98ce9fe2",
      "metadata": {
        "id": "98ce9fe2"
      },
      "outputs": [],
      "source": [
        "df = pd.DataFrame(my_dict, index = [1, 2, 3])\n",
        "df.columns = ['First_Name', 'Last_Name', 'Age'] \n",
        "df"
      ]
    },
    {
      "cell_type": "code",
      "execution_count": null,
      "id": "ae125e52",
      "metadata": {
        "id": "ae125e52"
      },
      "outputs": [],
      "source": [
        "df_new = df[['First_Name']] #returns a new dataframe with a single column from df\n",
        "df_new"
      ]
    },
    {
      "cell_type": "code",
      "execution_count": null,
      "id": "633d1315",
      "metadata": {
        "id": "633d1315"
      },
      "outputs": [],
      "source": [
        "df_new = df[['First_Name','Age']]\n",
        "df_new"
      ]
    },
    {
      "cell_type": "code",
      "execution_count": null,
      "id": "eb78ed9f",
      "metadata": {
        "id": "eb78ed9f"
      },
      "outputs": [],
      "source": [
        "type(df_new)"
      ]
    },
    {
      "cell_type": "code",
      "execution_count": null,
      "id": "2b37e581",
      "metadata": {
        "id": "2b37e581"
      },
      "outputs": [],
      "source": [
        "df = df[['Age', 'First_Name', 'Last_Name']] #re-arranging the columns \n",
        "df"
      ]
    },
    {
      "cell_type": "code",
      "execution_count": null,
      "id": "22e4283b",
      "metadata": {
        "id": "22e4283b"
      },
      "outputs": [],
      "source": [
        "ps = df['First_Name']\n",
        "ps"
      ]
    },
    {
      "cell_type": "code",
      "execution_count": null,
      "id": "12c99c0b",
      "metadata": {
        "id": "12c99c0b"
      },
      "outputs": [],
      "source": [
        "type(ps)"
      ]
    },
    {
      "cell_type": "markdown",
      "id": "481952f6",
      "metadata": {
        "id": "481952f6"
      },
      "source": [
        "Some Useful Column Functions"
      ]
    },
    {
      "cell_type": "code",
      "execution_count": null,
      "id": "11fb4c5f",
      "metadata": {
        "id": "11fb4c5f"
      },
      "outputs": [],
      "source": [
        "df.Age.mean() "
      ]
    },
    {
      "cell_type": "code",
      "execution_count": null,
      "id": "f1e9cbdb",
      "metadata": {
        "id": "f1e9cbdb"
      },
      "outputs": [],
      "source": [
        "df['Age'].mean()"
      ]
    },
    {
      "cell_type": "code",
      "execution_count": null,
      "id": "8fe8d141",
      "metadata": {
        "id": "8fe8d141"
      },
      "outputs": [],
      "source": [
        "np.mean(df['Age'])"
      ]
    },
    {
      "cell_type": "code",
      "execution_count": null,
      "id": "55bb93cc",
      "metadata": {
        "id": "55bb93cc"
      },
      "outputs": [],
      "source": [
        "df.First_Name.unique()"
      ]
    },
    {
      "cell_type": "markdown",
      "id": "cdb9c966",
      "metadata": {
        "id": "cdb9c966"
      },
      "source": [
        "Loading Specific Columns"
      ]
    },
    {
      "cell_type": "code",
      "execution_count": null,
      "id": "ec20fecd",
      "metadata": {
        "id": "ec20fecd"
      },
      "outputs": [],
      "source": [
        "my_dict = {'First Name':['James', 'Alexander', 'Ashley'],\n",
        "           'Last Name': ['Cook','Bell','Mason'],\n",
        "           'Age': [38, 42, 23]} \n",
        "df = pd.DataFrame(my_dict) #loads all columns from the dictionary\n",
        "df1 = pd.DataFrame(my_dict, columns = [\"First Name\", \"Last Name\"])\n",
        "df1 ##only specific columns are loaded (saves memory)\n"
      ]
    },
    {
      "cell_type": "markdown",
      "id": "96287f96",
      "metadata": {
        "id": "96287f96"
      },
      "source": [
        "Deleting Columns"
      ]
    },
    {
      "cell_type": "code",
      "execution_count": null,
      "id": "fc4bfa64",
      "metadata": {
        "id": "fc4bfa64"
      },
      "outputs": [],
      "source": [
        "del df1[\"First Name\"] #removes a column from existing dataframe\n",
        "df1"
      ]
    },
    {
      "cell_type": "markdown",
      "id": "9a4a8e97",
      "metadata": {
        "id": "9a4a8e97"
      },
      "source": [
        "Drop Function: deleting row or columns"
      ]
    },
    {
      "cell_type": "code",
      "execution_count": null,
      "id": "cd57068a",
      "metadata": {
        "id": "cd57068a"
      },
      "outputs": [],
      "source": [
        "help(df.drop)"
      ]
    },
    {
      "cell_type": "code",
      "execution_count": null,
      "id": "29746146",
      "metadata": {
        "id": "29746146"
      },
      "outputs": [],
      "source": [
        "new_df = df.drop(labels='Age', axis=1) #drops column “Age” and creates a new dataframe. Existing df stays intact. \n",
        "df.drop(labels ='Age', axis = 1, inplace = True) #drops column “Age” and updates existing df. default inplace=False\n",
        "df"
      ]
    },
    {
      "cell_type": "code",
      "execution_count": null,
      "id": "2c2955c4",
      "metadata": {
        "id": "2c2955c4"
      },
      "outputs": [],
      "source": [
        "new_df = df.drop(0) #delete the first row and create a new dataframe.\n",
        "new_df "
      ]
    },
    {
      "cell_type": "code",
      "execution_count": null,
      "id": "9bf33319",
      "metadata": {
        "id": "9bf33319"
      },
      "outputs": [],
      "source": [
        "df.drop(1, inplace = True) #deletes row labeled 1 from df.\n",
        "df"
      ]
    },
    {
      "cell_type": "markdown",
      "id": "1736cb2d",
      "metadata": {
        "id": "1736cb2d"
      },
      "source": [
        "Drops multiple columns and rows"
      ]
    },
    {
      "cell_type": "code",
      "execution_count": null,
      "id": "d200bbe8",
      "metadata": {
        "id": "d200bbe8"
      },
      "outputs": [],
      "source": [
        "my_dict = {'First Name':['James', 'Alexander', 'Ashley'],\n",
        "           'Last Name': ['Cook','Bell','Mason'],\n",
        "           'Age': [38, 42, 23]} \n",
        "df = pd.DataFrame(my_dict)\n",
        "new_df = df.drop(labels = ['First Name','Age'], axis = 1) #drops multiple columns\n",
        "new_df"
      ]
    },
    {
      "cell_type": "code",
      "execution_count": null,
      "id": "2f8e50c8",
      "metadata": {
        "id": "2f8e50c8"
      },
      "outputs": [],
      "source": [
        "my_dict = {'First Name':['James', 'Alexander', 'Ashley'],\n",
        "           'Last Name': ['Cook','Bell','Mason'],\n",
        "           'Age': [38, 42, 23]} \n",
        "df = pd.DataFrame(my_dict)\n",
        "new_df = df.drop(labels = [1,2], axis = 0)# delete rows with index “1“ and “2”\n",
        "new_df"
      ]
    },
    {
      "cell_type": "code",
      "execution_count": null,
      "id": "017b0281",
      "metadata": {
        "id": "017b0281"
      },
      "outputs": [],
      "source": [
        "my_dict = {'First Name':['James', 'Alexander', 'Ashley'],\n",
        "           'Last Name': ['Cook','Bell','Mason'],\n",
        "           'Age': [38, 42, 23]} \n",
        "df = pd.DataFrame(my_dict)\n",
        "new_df = new_df = df.drop([1,2]) # delete rows with index “1“ and “2”\n",
        "new_df"
      ]
    },
    {
      "cell_type": "markdown",
      "id": "4680e305",
      "metadata": {
        "id": "4680e305"
      },
      "source": [
        "### Dimensions"
      ]
    },
    {
      "cell_type": "code",
      "execution_count": null,
      "id": "ff7a1852",
      "metadata": {
        "id": "ff7a1852"
      },
      "outputs": [],
      "source": [
        "my_dict = {'First Name':['James', 'Alexander', 'Ashley'],\n",
        "           'Last Name': ['Cook','Bell','Mason'],\n",
        "           'Age': [38, 42, 23]} \n",
        "\n",
        "df = pd.DataFrame(my_dict, index=[1, 2, 3])\n",
        "\n",
        "del df['Age'] #now it 3 rows 2 columns dataframe"
      ]
    },
    {
      "cell_type": "code",
      "execution_count": null,
      "id": "1cc05e5d",
      "metadata": {
        "id": "1cc05e5d"
      },
      "outputs": [],
      "source": [
        "dim = df.shape #stores dimension with a pair in a tuple\n",
        "dim"
      ]
    },
    {
      "cell_type": "code",
      "execution_count": null,
      "id": "b72109f7",
      "metadata": {
        "id": "b72109f7"
      },
      "outputs": [],
      "source": [
        "nrows = dim[0]\n",
        "nrows"
      ]
    },
    {
      "cell_type": "code",
      "execution_count": null,
      "id": "ae69f7c3",
      "metadata": {
        "id": "ae69f7c3"
      },
      "outputs": [],
      "source": [
        "ncols = dim[1]\n",
        "ncols"
      ]
    },
    {
      "cell_type": "markdown",
      "id": "5be63111",
      "metadata": {
        "id": "5be63111"
      },
      "source": [
        "### Data Selection"
      ]
    },
    {
      "cell_type": "code",
      "execution_count": null,
      "id": "b55568f7",
      "metadata": {
        "id": "b55568f7"
      },
      "outputs": [],
      "source": [
        "my_dict = {'First Name':['James', 'Alexander', 'Ashley'],\n",
        "            'Last Name': ['Cook','Bell','Mason'],\n",
        "             'Age': [38, 42, 23]} \n",
        "df = pd.DataFrame(my_dict, index=[1,2,3])"
      ]
    },
    {
      "cell_type": "raw",
      "id": "85767688",
      "metadata": {
        "id": "85767688"
      },
      "source": [
        "Row slicing"
      ]
    },
    {
      "cell_type": "code",
      "execution_count": null,
      "id": "59d4732d",
      "metadata": {
        "id": "59d4732d"
      },
      "outputs": [],
      "source": [
        "df[0:2] #select first two rows and all columns and create a new dataframe"
      ]
    },
    {
      "cell_type": "code",
      "execution_count": null,
      "id": "a2c149dd",
      "metadata": {
        "id": "a2c149dd"
      },
      "outputs": [],
      "source": [
        "df[0:2][['Age']] #select first two rows and column named “Age”, create a new data frame"
      ]
    },
    {
      "cell_type": "code",
      "execution_count": null,
      "id": "9577e380",
      "metadata": {
        "id": "9577e380"
      },
      "outputs": [],
      "source": [
        "df[1:2][['Age','Last Name']] #select second row and columns “Age” and “Last Name”"
      ]
    },
    {
      "cell_type": "markdown",
      "id": "c6f52960",
      "metadata": {
        "id": "c6f52960"
      },
      "source": [
        "**Note:** We cannot select two or more rows without a sequential manner."
      ]
    },
    {
      "cell_type": "markdown",
      "id": "cee9ddb4",
      "metadata": {
        "id": "cee9ddb4"
      },
      "source": [
        "**.loc** selection by label. Works for label-based data selection. You must specify rows and columns based on dataframe row and column labels"
      ]
    },
    {
      "cell_type": "code",
      "execution_count": null,
      "id": "0d7edf55",
      "metadata": {
        "id": "0d7edf55"
      },
      "outputs": [],
      "source": [
        "my_dict = {'First Name':['James', 'Alexander', 'Ashley'],\n",
        "            'Last Name': ['Cook','Bell','Mason'],\n",
        "             'Age': [38, 42, 23]} \n",
        "df = pd.DataFrame(my_dict, index=[1,2,3])"
      ]
    },
    {
      "cell_type": "code",
      "execution_count": null,
      "id": "4f51bb36",
      "metadata": {
        "id": "4f51bb36"
      },
      "outputs": [],
      "source": [
        "df.loc[[1,3]] #return two rows and all columns with index name 1 and 3"
      ]
    },
    {
      "cell_type": "code",
      "execution_count": null,
      "id": "57c9edc1",
      "metadata": {
        "id": "57c9edc1"
      },
      "outputs": [],
      "source": [
        "df.loc[[1,3]][['Age']] #returns two rows and columns named “Age”"
      ]
    },
    {
      "cell_type": "code",
      "execution_count": null,
      "id": "1511612d",
      "metadata": {
        "id": "1511612d"
      },
      "outputs": [],
      "source": [
        "df.loc[1:3] #this is not slicing. this means “select rows from 1 to 3”"
      ]
    },
    {
      "cell_type": "code",
      "execution_count": null,
      "id": "e90c02a3",
      "metadata": {
        "id": "e90c02a3"
      },
      "outputs": [],
      "source": [
        "df.loc[1:] # select all rows starting from row label 1 "
      ]
    },
    {
      "cell_type": "code",
      "execution_count": null,
      "id": "c1c80bbc",
      "metadata": {
        "id": "c1c80bbc"
      },
      "outputs": [],
      "source": [
        "new_df = pd.DataFrame(my_dict, index = ['a','b','c'])\n",
        "new_df"
      ]
    },
    {
      "cell_type": "code",
      "execution_count": null,
      "id": "609b6378",
      "metadata": {
        "id": "609b6378"
      },
      "outputs": [],
      "source": [
        "new_df.loc[1:3] #throws and error as data slicing is not allowed"
      ]
    },
    {
      "cell_type": "code",
      "execution_count": null,
      "id": "da87e27f",
      "metadata": {
        "id": "da87e27f"
      },
      "outputs": [],
      "source": [
        "new_df.loc['a':'c'] #return rows from a to c. "
      ]
    },
    {
      "cell_type": "markdown",
      "id": "4ea21896",
      "metadata": {
        "id": "4ea21896"
      },
      "source": [
        "**.iloc** Selection by position"
      ]
    },
    {
      "cell_type": "code",
      "execution_count": null,
      "id": "60e24358",
      "metadata": {
        "id": "60e24358"
      },
      "outputs": [],
      "source": [
        "new_df.loc[1:3] #throws and error as data slicing is not allowed"
      ]
    },
    {
      "cell_type": "code",
      "execution_count": null,
      "id": "dc405cef",
      "metadata": {
        "id": "dc405cef"
      },
      "outputs": [],
      "source": [
        "new_df.iloc[1:3] #select from second row to third row"
      ]
    },
    {
      "cell_type": "code",
      "execution_count": null,
      "id": "ffef3fef",
      "metadata": {
        "id": "ffef3fef"
      },
      "outputs": [],
      "source": [
        "new_df.iloc[[0,2]] #returns first row and third row"
      ]
    },
    {
      "cell_type": "code",
      "execution_count": null,
      "id": "afb8ae8a",
      "metadata": {
        "id": "afb8ae8a"
      },
      "outputs": [],
      "source": [
        "new_df.iloc[[0,2]] [['Age']] #returns first row and third row and column label “Age”"
      ]
    },
    {
      "cell_type": "code",
      "execution_count": null,
      "id": "e8e51b29",
      "metadata": {
        "id": "e8e51b29"
      },
      "outputs": [],
      "source": [
        "new_df.iloc[[0, 2], [2]] #returns first row and third row and third column "
      ]
    },
    {
      "cell_type": "code",
      "execution_count": null,
      "id": "ce726385",
      "metadata": {
        "id": "ce726385"
      },
      "outputs": [],
      "source": [
        "new_df.iloc[[0, 2], [0,2]] #returns more columns"
      ]
    },
    {
      "cell_type": "markdown",
      "id": "4714e116",
      "metadata": {
        "id": "4714e116"
      },
      "source": [
        "### Online Data Sets"
      ]
    },
    {
      "cell_type": "code",
      "execution_count": null,
      "id": "ea469cdf",
      "metadata": {
        "id": "ea469cdf"
      },
      "outputs": [],
      "source": [
        "import seaborn as sns\n",
        "iris = sns.load_dataset('iris') \n",
        "type(iris)\n",
        "iris.head()"
      ]
    },
    {
      "cell_type": "code",
      "execution_count": null,
      "id": "136ad2ad",
      "metadata": {
        "id": "136ad2ad"
      },
      "outputs": [],
      "source": [
        "import pandas as pd\n",
        "nba = pd.read_csv(\"https://media.geeksforgeeks.org/wp-content/uploads/nba.csv\") \n",
        "type(nba)\n",
        "nba.head()"
      ]
    },
    {
      "cell_type": "code",
      "execution_count": null,
      "id": "50a358a8",
      "metadata": {
        "id": "50a358a8"
      },
      "outputs": [],
      "source": [
        "import pandas as pd\n",
        "mtcars = pd.read_csv('https://gist.githubusercontent.com/ZeccaLehn/4e06d2575eb9589dbe8c365d61cb056c/raw/64f1660f38ef523b2a1a13be77b002b98665cdfe/mtcars.csv')\n",
        "mtcars.rename(columns={'Unnamed: 0':'brand'}, inplace=True)\n",
        "mtcars.head()"
      ]
    },
    {
      "cell_type": "markdown",
      "id": "9262e85c",
      "metadata": {
        "id": "9262e85c"
      },
      "source": [
        "### Missing Values"
      ]
    },
    {
      "cell_type": "code",
      "execution_count": 3,
      "id": "7d25257b",
      "metadata": {
        "id": "7d25257b"
      },
      "outputs": [],
      "source": [
        "import numpy as np"
      ]
    },
    {
      "cell_type": "code",
      "execution_count": null,
      "id": "6dcf2454",
      "metadata": {
        "id": "6dcf2454"
      },
      "outputs": [],
      "source": [
        "df = pd.DataFrame([[np.nan, 2, np.nan, 0],\n",
        "                   [3, 4, np.nan, 1],\n",
        "                   [np.nan, np.nan, 3, 5],\n",
        "                   [np.nan, 3, np.nan, 4]],\n",
        "                   columns=list('ABCD'))\n",
        "df"
      ]
    },
    {
      "cell_type": "code",
      "execution_count": null,
      "id": "4a90f6e1",
      "metadata": {
        "id": "4a90f6e1"
      },
      "outputs": [],
      "source": [
        "df.fillna(0)"
      ]
    },
    {
      "cell_type": "markdown",
      "id": "8a5dea47",
      "metadata": {
        "id": "8a5dea47"
      },
      "source": [
        "Replace all NaN elements in column 'A', 'B', 'C', and 'D', with the mean of each columns."
      ]
    },
    {
      "cell_type": "code",
      "execution_count": null,
      "id": "facd5666",
      "metadata": {
        "id": "facd5666"
      },
      "outputs": [],
      "source": [
        "values = {\"A\": np.mean(df.A), \"B\": np.mean(df.B), \"C\": np.mean(df.C), \"D\": np.mean(df.D)}\n",
        "df.fillna(value = values)"
      ]
    },
    {
      "cell_type": "markdown",
      "id": "b1cfbbab",
      "metadata": {
        "id": "b1cfbbab"
      },
      "source": [
        "Only replace the first NaN element."
      ]
    }
  ],
  "metadata": {
    "kernelspec": {
      "display_name": "Python 3 (ipykernel)",
      "language": "python",
      "name": "python3"
    },
    "language_info": {
      "codemirror_mode": {
        "name": "ipython",
        "version": 3
      },
      "file_extension": ".py",
      "mimetype": "text/x-python",
      "name": "python",
      "nbconvert_exporter": "python",
      "pygments_lexer": "ipython3",
      "version": "3.9.7"
    },
    "colab": {
      "provenance": []
    }
  },
  "nbformat": 4,
  "nbformat_minor": 5
}